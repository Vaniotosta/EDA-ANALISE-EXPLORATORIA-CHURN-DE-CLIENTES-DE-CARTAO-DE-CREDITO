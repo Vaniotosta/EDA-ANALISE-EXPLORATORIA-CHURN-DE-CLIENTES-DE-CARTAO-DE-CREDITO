{
  "nbformat": 4,
  "nbformat_minor": 0,
  "metadata": {
    "colab": {
      "provenance": [],
      "mount_file_id": "1rwBQEooZFT3zGrXhuWVz325pwv4IiI7L",
      "authorship_tag": "ABX9TyObSqwWabrS7Sm36l5w180V"
    },
    "kernelspec": {
      "name": "python3",
      "display_name": "Python 3"
    },
    "language_info": {
      "name": "python"
    }
  },
  "cells": [
    {
      "cell_type": "markdown",
      "source": [
        "# EDA- ANÁLISE EXPLORATÓRIA DE CHURN DE CLIENTES DE CARTÃO DE CRÉDITO"
      ],
      "metadata": {
        "id": "uYyTCpcaeblX"
      }
    },
    {
      "cell_type": "code",
      "source": [
        "import plotly.io as pio\n",
        "pio.renderers"
      ],
      "metadata": {
        "colab": {
          "base_uri": "https://localhost:8080/"
        },
        "id": "una6Q9cGO4l1",
        "outputId": "5df7c9d7-5943-47bd-efc4-c87a025ef5e9"
      },
      "execution_count": 39,
      "outputs": [
        {
          "output_type": "execute_result",
          "data": {
            "text/plain": [
              "Renderers configuration\n",
              "-----------------------\n",
              "    Default renderer: 'jupyterlab'\n",
              "    Available renderers:\n",
              "        ['plotly_mimetype', 'jupyterlab', 'nteract', 'vscode',\n",
              "         'notebook', 'notebook_connected', 'kaggle', 'azure', 'colab',\n",
              "         'cocalc', 'databricks', 'json', 'png', 'jpeg', 'jpg', 'svg',\n",
              "         'pdf', 'browser', 'firefox', 'chrome', 'chromium', 'iframe',\n",
              "         'iframe_connected', 'sphinx_gallery', 'sphinx_gallery_png']"
            ]
          },
          "metadata": {},
          "execution_count": 39
        }
      ]
    },
    {
      "cell_type": "code",
      "source": [
        "import plotly\n"
      ],
      "metadata": {
        "id": "FlrS78m67LHV"
      },
      "execution_count": 40,
      "outputs": []
    },
    {
      "cell_type": "code",
      "source": [
        "import sys\n",
        "\n",
        "if not sys.warnoptions:\n",
        "    import warnings\n",
        "    warnings.simplefilter(\"ignore\")\n"
      ],
      "metadata": {
        "id": "gflv648nCRjB"
      },
      "execution_count": 41,
      "outputs": []
    },
    {
      "cell_type": "code",
      "source": [
        "pio.renderers.default = \"iframe\" # visualizar em outra IDE"
      ],
      "metadata": {
        "id": "6n2SEft4RwKs"
      },
      "execution_count": 42,
      "outputs": []
    },
    {
      "cell_type": "code",
      "source": [],
      "metadata": {
        "id": "3WiQx1aoSXGn"
      },
      "execution_count": 42,
      "outputs": []
    },
    {
      "cell_type": "markdown",
      "source": [
        "## PROBLEMA DE NEGÓCIO"
      ],
      "metadata": {
        "id": "rwkyDGNOe_eL"
      }
    },
    {
      "cell_type": "markdown",
      "source": [
        "\n",
        "Desafio:\n",
        "Você trabalha em uma grande empresa de Cartão de Crédito e o diretor da empresa percebeu que o número de clientes que cancelam seus cartões tem aumentado significativamente, causando prejuízos enormes para a empresa\n",
        "\n",
        "O que fazer para evitar isso? Como saber as pessoas que têm maior tendência a cancelar o cartão?\n",
        "\n",
        "O que temos:\n",
        "Temos 1 base de dados com informações dos clientes, tanto clientes atuais quanto clientes que cancelaram o cartão\n",
        "\n",
        "Download da Base de Dados: Botão na página\n",
        "\n",
        "Referência: https://www.kaggle.com/sakshigoyal7/credit-card-customers"
      ],
      "metadata": {
        "id": "U9AuEwxheUR8"
      }
    },
    {
      "cell_type": "markdown",
      "source": [
        "## OBJETIVO:\n",
        "Identificar os possíveis motivos para evasão de clientes (Churn) usuário de cartão de créditos"
      ],
      "metadata": {
        "id": "uz0dTN-MfV8D"
      }
    },
    {
      "cell_type": "code",
      "source": [
        " pip install -U kaleido"
      ],
      "metadata": {
        "colab": {
          "base_uri": "https://localhost:8080/"
        },
        "id": "gnDY1EfpExuv",
        "outputId": "7a84eef0-a21b-40ca-d475-2fd4d6a3cb22"
      },
      "execution_count": 43,
      "outputs": [
        {
          "output_type": "stream",
          "name": "stdout",
          "text": [
            "Looking in indexes: https://pypi.org/simple, https://us-python.pkg.dev/colab-wheels/public/simple/\n",
            "Requirement already satisfied: kaleido in /usr/local/lib/python3.8/dist-packages (0.2.1)\n"
          ]
        }
      ]
    },
    {
      "cell_type": "markdown",
      "source": [
        "##Informações da base\n",
        "\n",
        "Temos 1 base de dados com informações dos clientes, tanto clientes atuais quanto clientes que cancelaram o cartão\n",
        "\n",
        "Download da Base de Dados: Botão na página\n",
        "\n",
        "Referência: https://www.kaggle.com/sakshigoyal7/credit-card-customers"
      ],
      "metadata": {
        "id": "cavB2H54gQn4"
      }
    },
    {
      "cell_type": "code",
      "source": [
        "from google.colab import drive\n",
        "drive.mount('/content/drive')"
      ],
      "metadata": {
        "colab": {
          "base_uri": "https://localhost:8080/"
        },
        "id": "fUafVo9Dgck4",
        "outputId": "d965b01b-a0a4-4b36-a6d2-19a56b278790"
      },
      "execution_count": 44,
      "outputs": [
        {
          "output_type": "stream",
          "name": "stdout",
          "text": [
            "Drive already mounted at /content/drive; to attempt to forcibly remount, call drive.mount(\"/content/drive\", force_remount=True).\n"
          ]
        }
      ]
    },
    {
      "cell_type": "code",
      "source": [
        "# Importando a  base de dados e dropando a variável cliente\n",
        "import pandas as pd\n",
        "\n",
        "tabela = pd.read_csv(\"/content/drive/MyDrive/base_banco_credito/ClientesBanco.csv\", encoding=\"latin1\")\n",
        "tabela = tabela.drop(\"CLIENTNUM\", axis=1)\n",
        "tabela"
      ],
      "metadata": {
        "colab": {
          "base_uri": "https://localhost:8080/",
          "height": 713
        },
        "id": "qOZ8ZklIhAUq",
        "outputId": "16324ffb-9194-48b9-93db-6227adcdf931"
      },
      "execution_count": 45,
      "outputs": [
        {
          "output_type": "execute_result",
          "data": {
            "text/plain": [
              "       Categoria  Idade Sexo  Dependentes           Educação   Estado Civil  \\\n",
              "0        Cliente     45    M            3       Ensino Médio         Casado   \n",
              "1        Cliente     49    F            5    Ensino Superior       Solteiro   \n",
              "2        Cliente     51    M            3    Ensino Superior         Casado   \n",
              "3        Cliente     40    F            4       Ensino Médio  Não informado   \n",
              "4        Cliente     40    M            3  Sem ensino formal         Casado   \n",
              "...          ...    ...  ...          ...                ...            ...   \n",
              "10122    Cliente     50    M            2    Ensino Superior       Solteiro   \n",
              "10123  Cancelado     41    M            2      Não informado     Divorciado   \n",
              "10124  Cancelado     44    F            1       Ensino Médio         Casado   \n",
              "10125  Cancelado     30    M            2    Ensino Superior  Não informado   \n",
              "10126  Cancelado     43    F            2    Ensino Superior         Casado   \n",
              "\n",
              "      Faixa Salarial Anual Categoria Cartão  Meses como Cliente  \\\n",
              "0              $60K - $80K             Blue                  39   \n",
              "1           Less than $40K             Blue                  44   \n",
              "2             $80K - $120K             Blue                  36   \n",
              "3           Less than $40K             Blue                  34   \n",
              "4              $60K - $80K             Blue                  21   \n",
              "...                    ...              ...                 ...   \n",
              "10122          $40K - $60K             Blue                  40   \n",
              "10123          $40K - $60K             Blue                  25   \n",
              "10124       Less than $40K             Blue                  36   \n",
              "10125          $40K - $60K             Blue                  36   \n",
              "10126       Less than $40K           Silver                  25   \n",
              "\n",
              "       Produtos Contratados  Inatividade 12m  Contatos 12m   Limite  \\\n",
              "0                         5                1             3  12691.0   \n",
              "1                         6                1             2   8256.0   \n",
              "2                         4                1             0   3418.0   \n",
              "3                         3                4             1   3313.0   \n",
              "4                         5                1             0   4716.0   \n",
              "...                     ...              ...           ...      ...   \n",
              "10122                     3                2             3   4003.0   \n",
              "10123                     4                2             3   4277.0   \n",
              "10124                     5                3             4   5409.0   \n",
              "10125                     4                3             3   5281.0   \n",
              "10126                     6                2             4  10388.0   \n",
              "\n",
              "       Limite Consumido  Limite Disponível  Mudanças Transacoes_Q4_Q1  \\\n",
              "0                   777            11914.0                   1335.000   \n",
              "1                   864             7392.0                   1541.000   \n",
              "2                     0             3418.0                   2594.000   \n",
              "3                  2517              796.0                   1405.000   \n",
              "4                     0             4716.0                   2175.000   \n",
              "...                 ...                ...                        ...   \n",
              "10122              1851             2152.0                      0.703   \n",
              "10123              2186             2091.0                      0.804   \n",
              "10124                 0             5409.0                      0.819   \n",
              "10125                 0             5281.0                      0.535   \n",
              "10126              1961             8427.0                      0.703   \n",
              "\n",
              "       Valor Transacoes 12m  Qtde Transacoes 12m  \\\n",
              "0                      1144                   42   \n",
              "1                      1291                   33   \n",
              "2                      1887                   20   \n",
              "3                      1171                   20   \n",
              "4                       816                   28   \n",
              "...                     ...                  ...   \n",
              "10122                 15476                  117   \n",
              "10123                  8764                   69   \n",
              "10124                 10291                   60   \n",
              "10125                  8395                   62   \n",
              "10126                 10294                   61   \n",
              "\n",
              "       Mudança Qtde Transações_Q4_Q1  Taxa de Utilização Cartão  \n",
              "0                           1625.000                      0.061  \n",
              "1                           3714.000                      0.105  \n",
              "2                           2333.000                      0.000  \n",
              "3                           2333.000                      0.760  \n",
              "4                              2.500                      0.000  \n",
              "...                              ...                        ...  \n",
              "10122                          0.857                      0.462  \n",
              "10123                          0.683                      0.511  \n",
              "10124                          0.818                      0.000  \n",
              "10125                          0.722                      0.000  \n",
              "10126                          0.649                      0.189  \n",
              "\n",
              "[10127 rows x 20 columns]"
            ],
            "text/html": [
              "\n",
              "  <div id=\"df-ab7b3567-3500-4da7-aa85-388db247ada7\">\n",
              "    <div class=\"colab-df-container\">\n",
              "      <div>\n",
              "<style scoped>\n",
              "    .dataframe tbody tr th:only-of-type {\n",
              "        vertical-align: middle;\n",
              "    }\n",
              "\n",
              "    .dataframe tbody tr th {\n",
              "        vertical-align: top;\n",
              "    }\n",
              "\n",
              "    .dataframe thead th {\n",
              "        text-align: right;\n",
              "    }\n",
              "</style>\n",
              "<table border=\"1\" class=\"dataframe\">\n",
              "  <thead>\n",
              "    <tr style=\"text-align: right;\">\n",
              "      <th></th>\n",
              "      <th>Categoria</th>\n",
              "      <th>Idade</th>\n",
              "      <th>Sexo</th>\n",
              "      <th>Dependentes</th>\n",
              "      <th>Educação</th>\n",
              "      <th>Estado Civil</th>\n",
              "      <th>Faixa Salarial Anual</th>\n",
              "      <th>Categoria Cartão</th>\n",
              "      <th>Meses como Cliente</th>\n",
              "      <th>Produtos Contratados</th>\n",
              "      <th>Inatividade 12m</th>\n",
              "      <th>Contatos 12m</th>\n",
              "      <th>Limite</th>\n",
              "      <th>Limite Consumido</th>\n",
              "      <th>Limite Disponível</th>\n",
              "      <th>Mudanças Transacoes_Q4_Q1</th>\n",
              "      <th>Valor Transacoes 12m</th>\n",
              "      <th>Qtde Transacoes 12m</th>\n",
              "      <th>Mudança Qtde Transações_Q4_Q1</th>\n",
              "      <th>Taxa de Utilização Cartão</th>\n",
              "    </tr>\n",
              "  </thead>\n",
              "  <tbody>\n",
              "    <tr>\n",
              "      <th>0</th>\n",
              "      <td>Cliente</td>\n",
              "      <td>45</td>\n",
              "      <td>M</td>\n",
              "      <td>3</td>\n",
              "      <td>Ensino Médio</td>\n",
              "      <td>Casado</td>\n",
              "      <td>$60K - $80K</td>\n",
              "      <td>Blue</td>\n",
              "      <td>39</td>\n",
              "      <td>5</td>\n",
              "      <td>1</td>\n",
              "      <td>3</td>\n",
              "      <td>12691.0</td>\n",
              "      <td>777</td>\n",
              "      <td>11914.0</td>\n",
              "      <td>1335.000</td>\n",
              "      <td>1144</td>\n",
              "      <td>42</td>\n",
              "      <td>1625.000</td>\n",
              "      <td>0.061</td>\n",
              "    </tr>\n",
              "    <tr>\n",
              "      <th>1</th>\n",
              "      <td>Cliente</td>\n",
              "      <td>49</td>\n",
              "      <td>F</td>\n",
              "      <td>5</td>\n",
              "      <td>Ensino Superior</td>\n",
              "      <td>Solteiro</td>\n",
              "      <td>Less than $40K</td>\n",
              "      <td>Blue</td>\n",
              "      <td>44</td>\n",
              "      <td>6</td>\n",
              "      <td>1</td>\n",
              "      <td>2</td>\n",
              "      <td>8256.0</td>\n",
              "      <td>864</td>\n",
              "      <td>7392.0</td>\n",
              "      <td>1541.000</td>\n",
              "      <td>1291</td>\n",
              "      <td>33</td>\n",
              "      <td>3714.000</td>\n",
              "      <td>0.105</td>\n",
              "    </tr>\n",
              "    <tr>\n",
              "      <th>2</th>\n",
              "      <td>Cliente</td>\n",
              "      <td>51</td>\n",
              "      <td>M</td>\n",
              "      <td>3</td>\n",
              "      <td>Ensino Superior</td>\n",
              "      <td>Casado</td>\n",
              "      <td>$80K - $120K</td>\n",
              "      <td>Blue</td>\n",
              "      <td>36</td>\n",
              "      <td>4</td>\n",
              "      <td>1</td>\n",
              "      <td>0</td>\n",
              "      <td>3418.0</td>\n",
              "      <td>0</td>\n",
              "      <td>3418.0</td>\n",
              "      <td>2594.000</td>\n",
              "      <td>1887</td>\n",
              "      <td>20</td>\n",
              "      <td>2333.000</td>\n",
              "      <td>0.000</td>\n",
              "    </tr>\n",
              "    <tr>\n",
              "      <th>3</th>\n",
              "      <td>Cliente</td>\n",
              "      <td>40</td>\n",
              "      <td>F</td>\n",
              "      <td>4</td>\n",
              "      <td>Ensino Médio</td>\n",
              "      <td>Não informado</td>\n",
              "      <td>Less than $40K</td>\n",
              "      <td>Blue</td>\n",
              "      <td>34</td>\n",
              "      <td>3</td>\n",
              "      <td>4</td>\n",
              "      <td>1</td>\n",
              "      <td>3313.0</td>\n",
              "      <td>2517</td>\n",
              "      <td>796.0</td>\n",
              "      <td>1405.000</td>\n",
              "      <td>1171</td>\n",
              "      <td>20</td>\n",
              "      <td>2333.000</td>\n",
              "      <td>0.760</td>\n",
              "    </tr>\n",
              "    <tr>\n",
              "      <th>4</th>\n",
              "      <td>Cliente</td>\n",
              "      <td>40</td>\n",
              "      <td>M</td>\n",
              "      <td>3</td>\n",
              "      <td>Sem ensino formal</td>\n",
              "      <td>Casado</td>\n",
              "      <td>$60K - $80K</td>\n",
              "      <td>Blue</td>\n",
              "      <td>21</td>\n",
              "      <td>5</td>\n",
              "      <td>1</td>\n",
              "      <td>0</td>\n",
              "      <td>4716.0</td>\n",
              "      <td>0</td>\n",
              "      <td>4716.0</td>\n",
              "      <td>2175.000</td>\n",
              "      <td>816</td>\n",
              "      <td>28</td>\n",
              "      <td>2.500</td>\n",
              "      <td>0.000</td>\n",
              "    </tr>\n",
              "    <tr>\n",
              "      <th>...</th>\n",
              "      <td>...</td>\n",
              "      <td>...</td>\n",
              "      <td>...</td>\n",
              "      <td>...</td>\n",
              "      <td>...</td>\n",
              "      <td>...</td>\n",
              "      <td>...</td>\n",
              "      <td>...</td>\n",
              "      <td>...</td>\n",
              "      <td>...</td>\n",
              "      <td>...</td>\n",
              "      <td>...</td>\n",
              "      <td>...</td>\n",
              "      <td>...</td>\n",
              "      <td>...</td>\n",
              "      <td>...</td>\n",
              "      <td>...</td>\n",
              "      <td>...</td>\n",
              "      <td>...</td>\n",
              "      <td>...</td>\n",
              "    </tr>\n",
              "    <tr>\n",
              "      <th>10122</th>\n",
              "      <td>Cliente</td>\n",
              "      <td>50</td>\n",
              "      <td>M</td>\n",
              "      <td>2</td>\n",
              "      <td>Ensino Superior</td>\n",
              "      <td>Solteiro</td>\n",
              "      <td>$40K - $60K</td>\n",
              "      <td>Blue</td>\n",
              "      <td>40</td>\n",
              "      <td>3</td>\n",
              "      <td>2</td>\n",
              "      <td>3</td>\n",
              "      <td>4003.0</td>\n",
              "      <td>1851</td>\n",
              "      <td>2152.0</td>\n",
              "      <td>0.703</td>\n",
              "      <td>15476</td>\n",
              "      <td>117</td>\n",
              "      <td>0.857</td>\n",
              "      <td>0.462</td>\n",
              "    </tr>\n",
              "    <tr>\n",
              "      <th>10123</th>\n",
              "      <td>Cancelado</td>\n",
              "      <td>41</td>\n",
              "      <td>M</td>\n",
              "      <td>2</td>\n",
              "      <td>Não informado</td>\n",
              "      <td>Divorciado</td>\n",
              "      <td>$40K - $60K</td>\n",
              "      <td>Blue</td>\n",
              "      <td>25</td>\n",
              "      <td>4</td>\n",
              "      <td>2</td>\n",
              "      <td>3</td>\n",
              "      <td>4277.0</td>\n",
              "      <td>2186</td>\n",
              "      <td>2091.0</td>\n",
              "      <td>0.804</td>\n",
              "      <td>8764</td>\n",
              "      <td>69</td>\n",
              "      <td>0.683</td>\n",
              "      <td>0.511</td>\n",
              "    </tr>\n",
              "    <tr>\n",
              "      <th>10124</th>\n",
              "      <td>Cancelado</td>\n",
              "      <td>44</td>\n",
              "      <td>F</td>\n",
              "      <td>1</td>\n",
              "      <td>Ensino Médio</td>\n",
              "      <td>Casado</td>\n",
              "      <td>Less than $40K</td>\n",
              "      <td>Blue</td>\n",
              "      <td>36</td>\n",
              "      <td>5</td>\n",
              "      <td>3</td>\n",
              "      <td>4</td>\n",
              "      <td>5409.0</td>\n",
              "      <td>0</td>\n",
              "      <td>5409.0</td>\n",
              "      <td>0.819</td>\n",
              "      <td>10291</td>\n",
              "      <td>60</td>\n",
              "      <td>0.818</td>\n",
              "      <td>0.000</td>\n",
              "    </tr>\n",
              "    <tr>\n",
              "      <th>10125</th>\n",
              "      <td>Cancelado</td>\n",
              "      <td>30</td>\n",
              "      <td>M</td>\n",
              "      <td>2</td>\n",
              "      <td>Ensino Superior</td>\n",
              "      <td>Não informado</td>\n",
              "      <td>$40K - $60K</td>\n",
              "      <td>Blue</td>\n",
              "      <td>36</td>\n",
              "      <td>4</td>\n",
              "      <td>3</td>\n",
              "      <td>3</td>\n",
              "      <td>5281.0</td>\n",
              "      <td>0</td>\n",
              "      <td>5281.0</td>\n",
              "      <td>0.535</td>\n",
              "      <td>8395</td>\n",
              "      <td>62</td>\n",
              "      <td>0.722</td>\n",
              "      <td>0.000</td>\n",
              "    </tr>\n",
              "    <tr>\n",
              "      <th>10126</th>\n",
              "      <td>Cancelado</td>\n",
              "      <td>43</td>\n",
              "      <td>F</td>\n",
              "      <td>2</td>\n",
              "      <td>Ensino Superior</td>\n",
              "      <td>Casado</td>\n",
              "      <td>Less than $40K</td>\n",
              "      <td>Silver</td>\n",
              "      <td>25</td>\n",
              "      <td>6</td>\n",
              "      <td>2</td>\n",
              "      <td>4</td>\n",
              "      <td>10388.0</td>\n",
              "      <td>1961</td>\n",
              "      <td>8427.0</td>\n",
              "      <td>0.703</td>\n",
              "      <td>10294</td>\n",
              "      <td>61</td>\n",
              "      <td>0.649</td>\n",
              "      <td>0.189</td>\n",
              "    </tr>\n",
              "  </tbody>\n",
              "</table>\n",
              "<p>10127 rows × 20 columns</p>\n",
              "</div>\n",
              "      <button class=\"colab-df-convert\" onclick=\"convertToInteractive('df-ab7b3567-3500-4da7-aa85-388db247ada7')\"\n",
              "              title=\"Convert this dataframe to an interactive table.\"\n",
              "              style=\"display:none;\">\n",
              "        \n",
              "  <svg xmlns=\"http://www.w3.org/2000/svg\" height=\"24px\"viewBox=\"0 0 24 24\"\n",
              "       width=\"24px\">\n",
              "    <path d=\"M0 0h24v24H0V0z\" fill=\"none\"/>\n",
              "    <path d=\"M18.56 5.44l.94 2.06.94-2.06 2.06-.94-2.06-.94-.94-2.06-.94 2.06-2.06.94zm-11 1L8.5 8.5l.94-2.06 2.06-.94-2.06-.94L8.5 2.5l-.94 2.06-2.06.94zm10 10l.94 2.06.94-2.06 2.06-.94-2.06-.94-.94-2.06-.94 2.06-2.06.94z\"/><path d=\"M17.41 7.96l-1.37-1.37c-.4-.4-.92-.59-1.43-.59-.52 0-1.04.2-1.43.59L10.3 9.45l-7.72 7.72c-.78.78-.78 2.05 0 2.83L4 21.41c.39.39.9.59 1.41.59.51 0 1.02-.2 1.41-.59l7.78-7.78 2.81-2.81c.8-.78.8-2.07 0-2.86zM5.41 20L4 18.59l7.72-7.72 1.47 1.35L5.41 20z\"/>\n",
              "  </svg>\n",
              "      </button>\n",
              "      \n",
              "  <style>\n",
              "    .colab-df-container {\n",
              "      display:flex;\n",
              "      flex-wrap:wrap;\n",
              "      gap: 12px;\n",
              "    }\n",
              "\n",
              "    .colab-df-convert {\n",
              "      background-color: #E8F0FE;\n",
              "      border: none;\n",
              "      border-radius: 50%;\n",
              "      cursor: pointer;\n",
              "      display: none;\n",
              "      fill: #1967D2;\n",
              "      height: 32px;\n",
              "      padding: 0 0 0 0;\n",
              "      width: 32px;\n",
              "    }\n",
              "\n",
              "    .colab-df-convert:hover {\n",
              "      background-color: #E2EBFA;\n",
              "      box-shadow: 0px 1px 2px rgba(60, 64, 67, 0.3), 0px 1px 3px 1px rgba(60, 64, 67, 0.15);\n",
              "      fill: #174EA6;\n",
              "    }\n",
              "\n",
              "    [theme=dark] .colab-df-convert {\n",
              "      background-color: #3B4455;\n",
              "      fill: #D2E3FC;\n",
              "    }\n",
              "\n",
              "    [theme=dark] .colab-df-convert:hover {\n",
              "      background-color: #434B5C;\n",
              "      box-shadow: 0px 1px 3px 1px rgba(0, 0, 0, 0.15);\n",
              "      filter: drop-shadow(0px 1px 2px rgba(0, 0, 0, 0.3));\n",
              "      fill: #FFFFFF;\n",
              "    }\n",
              "  </style>\n",
              "\n",
              "      <script>\n",
              "        const buttonEl =\n",
              "          document.querySelector('#df-ab7b3567-3500-4da7-aa85-388db247ada7 button.colab-df-convert');\n",
              "        buttonEl.style.display =\n",
              "          google.colab.kernel.accessAllowed ? 'block' : 'none';\n",
              "\n",
              "        async function convertToInteractive(key) {\n",
              "          const element = document.querySelector('#df-ab7b3567-3500-4da7-aa85-388db247ada7');\n",
              "          const dataTable =\n",
              "            await google.colab.kernel.invokeFunction('convertToInteractive',\n",
              "                                                     [key], {});\n",
              "          if (!dataTable) return;\n",
              "\n",
              "          const docLinkHtml = 'Like what you see? Visit the ' +\n",
              "            '<a target=\"_blank\" href=https://colab.research.google.com/notebooks/data_table.ipynb>data table notebook</a>'\n",
              "            + ' to learn more about interactive tables.';\n",
              "          element.innerHTML = '';\n",
              "          dataTable['output_type'] = 'display_data';\n",
              "          await google.colab.output.renderOutput(dataTable, element);\n",
              "          const docLink = document.createElement('div');\n",
              "          docLink.innerHTML = docLinkHtml;\n",
              "          element.appendChild(docLink);\n",
              "        }\n",
              "      </script>\n",
              "    </div>\n",
              "  </div>\n",
              "  "
            ]
          },
          "metadata": {},
          "execution_count": 45
        }
      ]
    },
    {
      "cell_type": "markdown",
      "source": [
        "### Verificou que não temos mais valores nulos"
      ],
      "metadata": {
        "id": "kgbGMxzPmvnp"
      }
    },
    {
      "cell_type": "code",
      "source": [
        "\n",
        "tabela.isnull().sum()     # Verificando os valores nulos \n",
        "tabela=tabela.dropna()    # excluindo valores nulos\n",
        "\n",
        "\n",
        "tabela.info()             # verificando as informações\n"
      ],
      "metadata": {
        "colab": {
          "base_uri": "https://localhost:8080/"
        },
        "id": "CIqtaL6DkUwa",
        "outputId": "1c549111-e9d6-455a-cb7b-5da74e121356"
      },
      "execution_count": 46,
      "outputs": [
        {
          "output_type": "stream",
          "name": "stdout",
          "text": [
            "<class 'pandas.core.frame.DataFrame'>\n",
            "Int64Index: 10126 entries, 0 to 10126\n",
            "Data columns (total 20 columns):\n",
            " #   Column                         Non-Null Count  Dtype  \n",
            "---  ------                         --------------  -----  \n",
            " 0   Categoria                      10126 non-null  object \n",
            " 1   Idade                          10126 non-null  int64  \n",
            " 2   Sexo                           10126 non-null  object \n",
            " 3   Dependentes                    10126 non-null  int64  \n",
            " 4   Educação                       10126 non-null  object \n",
            " 5   Estado Civil                   10126 non-null  object \n",
            " 6   Faixa Salarial Anual           10126 non-null  object \n",
            " 7   Categoria Cartão               10126 non-null  object \n",
            " 8   Meses como Cliente             10126 non-null  int64  \n",
            " 9   Produtos Contratados           10126 non-null  int64  \n",
            " 10  Inatividade 12m                10126 non-null  int64  \n",
            " 11  Contatos 12m                   10126 non-null  int64  \n",
            " 12  Limite                         10126 non-null  float64\n",
            " 13  Limite Consumido               10126 non-null  int64  \n",
            " 14  Limite Disponível              10126 non-null  float64\n",
            " 15  Mudanças Transacoes_Q4_Q1      10126 non-null  float64\n",
            " 16  Valor Transacoes 12m           10126 non-null  int64  \n",
            " 17  Qtde Transacoes 12m            10126 non-null  int64  \n",
            " 18  Mudança Qtde Transações_Q4_Q1  10126 non-null  float64\n",
            " 19  Taxa de Utilização Cartão      10126 non-null  float64\n",
            "dtypes: float64(5), int64(9), object(6)\n",
            "memory usage: 1.6+ MB\n"
          ]
        }
      ]
    },
    {
      "cell_type": "code",
      "source": [
        "tabela.describe()  # Verificando principais estatistica"
      ],
      "metadata": {
        "colab": {
          "base_uri": "https://localhost:8080/",
          "height": 399
        },
        "id": "cgHr2XXQmj4L",
        "outputId": "4a9a7aa2-a1b0-4736-b141-f858e5b9e105"
      },
      "execution_count": 47,
      "outputs": [
        {
          "output_type": "execute_result",
          "data": {
            "text/plain": [
              "              Idade   Dependentes  Meses como Cliente  Produtos Contratados  \\\n",
              "count  10126.000000  10126.000000        10126.000000          10126.000000   \n",
              "mean      46.327079      2.346139           35.928995              3.812463   \n",
              "std        8.016420      1.298956            7.986593              1.554440   \n",
              "min       26.000000      0.000000           13.000000              1.000000   \n",
              "25%       41.000000      1.000000           31.000000              3.000000   \n",
              "50%       46.000000      2.000000           36.000000              4.000000   \n",
              "75%       52.000000      3.000000           40.000000              5.000000   \n",
              "max       73.000000      5.000000           56.000000              6.000000   \n",
              "\n",
              "       Inatividade 12m  Contatos 12m        Limite  Limite Consumido  \\\n",
              "count     10126.000000  10126.000000  10126.000000      10126.000000   \n",
              "mean          2.341300      2.455264   8631.962088       1162.764369   \n",
              "std           1.010584      1.106267   9089.225428        815.012238   \n",
              "min           0.000000      0.000000   1438.300000          0.000000   \n",
              "25%           2.000000      2.000000   2555.000000        358.000000   \n",
              "50%           2.000000      2.000000   4549.000000       1276.000000   \n",
              "75%           3.000000      3.000000  11067.750000       1784.000000   \n",
              "max           6.000000      6.000000  34516.000000       2517.000000   \n",
              "\n",
              "       Limite Disponível  Mudanças Transacoes_Q4_Q1  Valor Transacoes 12m  \\\n",
              "count       10126.000000               10126.000000          10126.000000   \n",
              "mean         7469.197719                 108.713167           4404.391764   \n",
              "std          9091.132356                 353.912795           3397.157925   \n",
              "min             3.000000                   0.000000            510.000000   \n",
              "25%          1324.250000                   0.631000           2156.000000   \n",
              "50%          3473.000000                   0.736000           3899.500000   \n",
              "75%          9860.000000                   0.859000           4741.000000   \n",
              "max         34516.000000                3397.000000          18484.000000   \n",
              "\n",
              "       Qtde Transacoes 12m  Mudança Qtde Transações_Q4_Q1  \\\n",
              "count         10126.000000                   10126.000000   \n",
              "mean             64.861841                      66.579995   \n",
              "std              23.471594                     284.001363   \n",
              "min              10.000000                       0.000000   \n",
              "25%              45.000000                       0.582000   \n",
              "50%              67.000000                       0.702000   \n",
              "75%              81.000000                       0.818000   \n",
              "max             139.000000                    3714.000000   \n",
              "\n",
              "       Taxa de Utilização Cartão  \n",
              "count               10126.000000  \n",
              "mean                    0.274901  \n",
              "std                     0.275704  \n",
              "min                     0.000000  \n",
              "25%                     0.023000  \n",
              "50%                     0.175500  \n",
              "75%                     0.503000  \n",
              "max                     0.999000  "
            ],
            "text/html": [
              "\n",
              "  <div id=\"df-2a2e0d07-6cf4-4a78-b840-eb7d7a9dc249\">\n",
              "    <div class=\"colab-df-container\">\n",
              "      <div>\n",
              "<style scoped>\n",
              "    .dataframe tbody tr th:only-of-type {\n",
              "        vertical-align: middle;\n",
              "    }\n",
              "\n",
              "    .dataframe tbody tr th {\n",
              "        vertical-align: top;\n",
              "    }\n",
              "\n",
              "    .dataframe thead th {\n",
              "        text-align: right;\n",
              "    }\n",
              "</style>\n",
              "<table border=\"1\" class=\"dataframe\">\n",
              "  <thead>\n",
              "    <tr style=\"text-align: right;\">\n",
              "      <th></th>\n",
              "      <th>Idade</th>\n",
              "      <th>Dependentes</th>\n",
              "      <th>Meses como Cliente</th>\n",
              "      <th>Produtos Contratados</th>\n",
              "      <th>Inatividade 12m</th>\n",
              "      <th>Contatos 12m</th>\n",
              "      <th>Limite</th>\n",
              "      <th>Limite Consumido</th>\n",
              "      <th>Limite Disponível</th>\n",
              "      <th>Mudanças Transacoes_Q4_Q1</th>\n",
              "      <th>Valor Transacoes 12m</th>\n",
              "      <th>Qtde Transacoes 12m</th>\n",
              "      <th>Mudança Qtde Transações_Q4_Q1</th>\n",
              "      <th>Taxa de Utilização Cartão</th>\n",
              "    </tr>\n",
              "  </thead>\n",
              "  <tbody>\n",
              "    <tr>\n",
              "      <th>count</th>\n",
              "      <td>10126.000000</td>\n",
              "      <td>10126.000000</td>\n",
              "      <td>10126.000000</td>\n",
              "      <td>10126.000000</td>\n",
              "      <td>10126.000000</td>\n",
              "      <td>10126.000000</td>\n",
              "      <td>10126.000000</td>\n",
              "      <td>10126.000000</td>\n",
              "      <td>10126.000000</td>\n",
              "      <td>10126.000000</td>\n",
              "      <td>10126.000000</td>\n",
              "      <td>10126.000000</td>\n",
              "      <td>10126.000000</td>\n",
              "      <td>10126.000000</td>\n",
              "    </tr>\n",
              "    <tr>\n",
              "      <th>mean</th>\n",
              "      <td>46.327079</td>\n",
              "      <td>2.346139</td>\n",
              "      <td>35.928995</td>\n",
              "      <td>3.812463</td>\n",
              "      <td>2.341300</td>\n",
              "      <td>2.455264</td>\n",
              "      <td>8631.962088</td>\n",
              "      <td>1162.764369</td>\n",
              "      <td>7469.197719</td>\n",
              "      <td>108.713167</td>\n",
              "      <td>4404.391764</td>\n",
              "      <td>64.861841</td>\n",
              "      <td>66.579995</td>\n",
              "      <td>0.274901</td>\n",
              "    </tr>\n",
              "    <tr>\n",
              "      <th>std</th>\n",
              "      <td>8.016420</td>\n",
              "      <td>1.298956</td>\n",
              "      <td>7.986593</td>\n",
              "      <td>1.554440</td>\n",
              "      <td>1.010584</td>\n",
              "      <td>1.106267</td>\n",
              "      <td>9089.225428</td>\n",
              "      <td>815.012238</td>\n",
              "      <td>9091.132356</td>\n",
              "      <td>353.912795</td>\n",
              "      <td>3397.157925</td>\n",
              "      <td>23.471594</td>\n",
              "      <td>284.001363</td>\n",
              "      <td>0.275704</td>\n",
              "    </tr>\n",
              "    <tr>\n",
              "      <th>min</th>\n",
              "      <td>26.000000</td>\n",
              "      <td>0.000000</td>\n",
              "      <td>13.000000</td>\n",
              "      <td>1.000000</td>\n",
              "      <td>0.000000</td>\n",
              "      <td>0.000000</td>\n",
              "      <td>1438.300000</td>\n",
              "      <td>0.000000</td>\n",
              "      <td>3.000000</td>\n",
              "      <td>0.000000</td>\n",
              "      <td>510.000000</td>\n",
              "      <td>10.000000</td>\n",
              "      <td>0.000000</td>\n",
              "      <td>0.000000</td>\n",
              "    </tr>\n",
              "    <tr>\n",
              "      <th>25%</th>\n",
              "      <td>41.000000</td>\n",
              "      <td>1.000000</td>\n",
              "      <td>31.000000</td>\n",
              "      <td>3.000000</td>\n",
              "      <td>2.000000</td>\n",
              "      <td>2.000000</td>\n",
              "      <td>2555.000000</td>\n",
              "      <td>358.000000</td>\n",
              "      <td>1324.250000</td>\n",
              "      <td>0.631000</td>\n",
              "      <td>2156.000000</td>\n",
              "      <td>45.000000</td>\n",
              "      <td>0.582000</td>\n",
              "      <td>0.023000</td>\n",
              "    </tr>\n",
              "    <tr>\n",
              "      <th>50%</th>\n",
              "      <td>46.000000</td>\n",
              "      <td>2.000000</td>\n",
              "      <td>36.000000</td>\n",
              "      <td>4.000000</td>\n",
              "      <td>2.000000</td>\n",
              "      <td>2.000000</td>\n",
              "      <td>4549.000000</td>\n",
              "      <td>1276.000000</td>\n",
              "      <td>3473.000000</td>\n",
              "      <td>0.736000</td>\n",
              "      <td>3899.500000</td>\n",
              "      <td>67.000000</td>\n",
              "      <td>0.702000</td>\n",
              "      <td>0.175500</td>\n",
              "    </tr>\n",
              "    <tr>\n",
              "      <th>75%</th>\n",
              "      <td>52.000000</td>\n",
              "      <td>3.000000</td>\n",
              "      <td>40.000000</td>\n",
              "      <td>5.000000</td>\n",
              "      <td>3.000000</td>\n",
              "      <td>3.000000</td>\n",
              "      <td>11067.750000</td>\n",
              "      <td>1784.000000</td>\n",
              "      <td>9860.000000</td>\n",
              "      <td>0.859000</td>\n",
              "      <td>4741.000000</td>\n",
              "      <td>81.000000</td>\n",
              "      <td>0.818000</td>\n",
              "      <td>0.503000</td>\n",
              "    </tr>\n",
              "    <tr>\n",
              "      <th>max</th>\n",
              "      <td>73.000000</td>\n",
              "      <td>5.000000</td>\n",
              "      <td>56.000000</td>\n",
              "      <td>6.000000</td>\n",
              "      <td>6.000000</td>\n",
              "      <td>6.000000</td>\n",
              "      <td>34516.000000</td>\n",
              "      <td>2517.000000</td>\n",
              "      <td>34516.000000</td>\n",
              "      <td>3397.000000</td>\n",
              "      <td>18484.000000</td>\n",
              "      <td>139.000000</td>\n",
              "      <td>3714.000000</td>\n",
              "      <td>0.999000</td>\n",
              "    </tr>\n",
              "  </tbody>\n",
              "</table>\n",
              "</div>\n",
              "      <button class=\"colab-df-convert\" onclick=\"convertToInteractive('df-2a2e0d07-6cf4-4a78-b840-eb7d7a9dc249')\"\n",
              "              title=\"Convert this dataframe to an interactive table.\"\n",
              "              style=\"display:none;\">\n",
              "        \n",
              "  <svg xmlns=\"http://www.w3.org/2000/svg\" height=\"24px\"viewBox=\"0 0 24 24\"\n",
              "       width=\"24px\">\n",
              "    <path d=\"M0 0h24v24H0V0z\" fill=\"none\"/>\n",
              "    <path d=\"M18.56 5.44l.94 2.06.94-2.06 2.06-.94-2.06-.94-.94-2.06-.94 2.06-2.06.94zm-11 1L8.5 8.5l.94-2.06 2.06-.94-2.06-.94L8.5 2.5l-.94 2.06-2.06.94zm10 10l.94 2.06.94-2.06 2.06-.94-2.06-.94-.94-2.06-.94 2.06-2.06.94z\"/><path d=\"M17.41 7.96l-1.37-1.37c-.4-.4-.92-.59-1.43-.59-.52 0-1.04.2-1.43.59L10.3 9.45l-7.72 7.72c-.78.78-.78 2.05 0 2.83L4 21.41c.39.39.9.59 1.41.59.51 0 1.02-.2 1.41-.59l7.78-7.78 2.81-2.81c.8-.78.8-2.07 0-2.86zM5.41 20L4 18.59l7.72-7.72 1.47 1.35L5.41 20z\"/>\n",
              "  </svg>\n",
              "      </button>\n",
              "      \n",
              "  <style>\n",
              "    .colab-df-container {\n",
              "      display:flex;\n",
              "      flex-wrap:wrap;\n",
              "      gap: 12px;\n",
              "    }\n",
              "\n",
              "    .colab-df-convert {\n",
              "      background-color: #E8F0FE;\n",
              "      border: none;\n",
              "      border-radius: 50%;\n",
              "      cursor: pointer;\n",
              "      display: none;\n",
              "      fill: #1967D2;\n",
              "      height: 32px;\n",
              "      padding: 0 0 0 0;\n",
              "      width: 32px;\n",
              "    }\n",
              "\n",
              "    .colab-df-convert:hover {\n",
              "      background-color: #E2EBFA;\n",
              "      box-shadow: 0px 1px 2px rgba(60, 64, 67, 0.3), 0px 1px 3px 1px rgba(60, 64, 67, 0.15);\n",
              "      fill: #174EA6;\n",
              "    }\n",
              "\n",
              "    [theme=dark] .colab-df-convert {\n",
              "      background-color: #3B4455;\n",
              "      fill: #D2E3FC;\n",
              "    }\n",
              "\n",
              "    [theme=dark] .colab-df-convert:hover {\n",
              "      background-color: #434B5C;\n",
              "      box-shadow: 0px 1px 3px 1px rgba(0, 0, 0, 0.15);\n",
              "      filter: drop-shadow(0px 1px 2px rgba(0, 0, 0, 0.3));\n",
              "      fill: #FFFFFF;\n",
              "    }\n",
              "  </style>\n",
              "\n",
              "      <script>\n",
              "        const buttonEl =\n",
              "          document.querySelector('#df-2a2e0d07-6cf4-4a78-b840-eb7d7a9dc249 button.colab-df-convert');\n",
              "        buttonEl.style.display =\n",
              "          google.colab.kernel.accessAllowed ? 'block' : 'none';\n",
              "\n",
              "        async function convertToInteractive(key) {\n",
              "          const element = document.querySelector('#df-2a2e0d07-6cf4-4a78-b840-eb7d7a9dc249');\n",
              "          const dataTable =\n",
              "            await google.colab.kernel.invokeFunction('convertToInteractive',\n",
              "                                                     [key], {});\n",
              "          if (!dataTable) return;\n",
              "\n",
              "          const docLinkHtml = 'Like what you see? Visit the ' +\n",
              "            '<a target=\"_blank\" href=https://colab.research.google.com/notebooks/data_table.ipynb>data table notebook</a>'\n",
              "            + ' to learn more about interactive tables.';\n",
              "          element.innerHTML = '';\n",
              "          dataTable['output_type'] = 'display_data';\n",
              "          await google.colab.output.renderOutput(dataTable, element);\n",
              "          const docLink = document.createElement('div');\n",
              "          docLink.innerHTML = docLinkHtml;\n",
              "          element.appendChild(docLink);\n",
              "        }\n",
              "      </script>\n",
              "    </div>\n",
              "  </div>\n",
              "  "
            ]
          },
          "metadata": {},
          "execution_count": 47
        }
      ]
    },
    {
      "cell_type": "markdown",
      "source": [
        "\n",
        "1 Verificou-se que a idade varia de 26 a 73 anos , e que 50 % dos clientes estão acima dos 46 anos.\n",
        "\n",
        "2 Mais da metade ds clientes  tem acima de 2 dependendes\n",
        "\n",
        "3 Mais da metade dos clientes estão acima de 36 meses ativos\n",
        "\n",
        "4 Mais da metade dos clientes tem limite acima de 4500"
      ],
      "metadata": {
        "id": "UuFltRjgmqBr"
      }
    },
    {
      "cell_type": "markdown",
      "source": [
        "## Vamos avaliar como está a divisão entre Clientes x Cancelados"
      ],
      "metadata": {
        "id": "EdNB5QQSqEPl"
      }
    },
    {
      "cell_type": "code",
      "source": [
        "qtde_categoria = tabela[\"Categoria\"].value_counts()\n",
        "display(qtde_categoria)\n",
        "\n",
        "\n",
        "qtde_categoria_perc =( tabela[\"Categoria\"].value_counts(normalize=True)*100) # qtd em percentuais\n",
        "display(qtde_categoria_perc)"
      ],
      "metadata": {
        "colab": {
          "base_uri": "https://localhost:8080/",
          "height": 121
        },
        "id": "FdcUBj8iocPh",
        "outputId": "21fc9997-fa44-46a5-dbd6-05cc63010bba"
      },
      "execution_count": 48,
      "outputs": [
        {
          "output_type": "display_data",
          "data": {
            "text/plain": [
              "Cliente      8499\n",
              "Cancelado    1627\n",
              "Name: Categoria, dtype: int64"
            ]
          },
          "metadata": {}
        },
        {
          "output_type": "display_data",
          "data": {
            "text/plain": [
              "Cliente      83.932451\n",
              "Cancelado    16.067549\n",
              "Name: Categoria, dtype: float64"
            ]
          },
          "metadata": {}
        }
      ]
    },
    {
      "cell_type": "markdown",
      "source": [
        "## Vamos descobrir alguns possíveis motivos do cancelamento"
      ],
      "metadata": {
        "id": "F2jR-Ku3sHg9"
      }
    },
    {
      "cell_type": "markdown",
      "source": [
        "  - Podemos olhar a comparação entre Clientes e Cancelados em cada uma das colunas da nossa base de dados, para ver se essa informação traz algum insight novo para a gente"
      ],
      "metadata": {
        "id": "A1P-uzISsiyo"
      }
    },
    {
      "cell_type": "code",
      "source": [
        "import plotly.express as px\n",
        "\n",
        "for coluna in tabela:\n",
        "  grafico = px.histogram(tabela, x=coluna, color=\"Categoria\")\n",
        "  grafico.show()\n",
        "  "
      ],
      "metadata": {
        "colab": {
          "base_uri": "https://localhost:8080/",
          "height": 1000
        },
        "id": "B4dArS5esWVS",
        "outputId": "aecf750e-e958-4fd6-afd7-6a075135e303"
      },
      "execution_count": 49,
      "outputs": [
        {
          "output_type": "display_data",
          "data": {
            "text/html": [
              "<iframe\n",
              "    scrolling=\"no\"\n",
              "    width=\"100%\"\n",
              "    height=\"545px\"\n",
              "    src=\"iframe_figures/figure_49.html\"\n",
              "    frameborder=\"0\"\n",
              "    allowfullscreen\n",
              "></iframe>\n"
            ]
          },
          "metadata": {}
        },
        {
          "output_type": "display_data",
          "data": {
            "text/html": [
              "<iframe\n",
              "    scrolling=\"no\"\n",
              "    width=\"100%\"\n",
              "    height=\"545px\"\n",
              "    src=\"iframe_figures/figure_49.html\"\n",
              "    frameborder=\"0\"\n",
              "    allowfullscreen\n",
              "></iframe>\n"
            ]
          },
          "metadata": {}
        },
        {
          "output_type": "display_data",
          "data": {
            "text/html": [
              "<iframe\n",
              "    scrolling=\"no\"\n",
              "    width=\"100%\"\n",
              "    height=\"545px\"\n",
              "    src=\"iframe_figures/figure_49.html\"\n",
              "    frameborder=\"0\"\n",
              "    allowfullscreen\n",
              "></iframe>\n"
            ]
          },
          "metadata": {}
        },
        {
          "output_type": "display_data",
          "data": {
            "text/html": [
              "<iframe\n",
              "    scrolling=\"no\"\n",
              "    width=\"100%\"\n",
              "    height=\"545px\"\n",
              "    src=\"iframe_figures/figure_49.html\"\n",
              "    frameborder=\"0\"\n",
              "    allowfullscreen\n",
              "></iframe>\n"
            ]
          },
          "metadata": {}
        },
        {
          "output_type": "display_data",
          "data": {
            "text/html": [
              "<iframe\n",
              "    scrolling=\"no\"\n",
              "    width=\"100%\"\n",
              "    height=\"545px\"\n",
              "    src=\"iframe_figures/figure_49.html\"\n",
              "    frameborder=\"0\"\n",
              "    allowfullscreen\n",
              "></iframe>\n"
            ]
          },
          "metadata": {}
        },
        {
          "output_type": "display_data",
          "data": {
            "text/html": [
              "<iframe\n",
              "    scrolling=\"no\"\n",
              "    width=\"100%\"\n",
              "    height=\"545px\"\n",
              "    src=\"iframe_figures/figure_49.html\"\n",
              "    frameborder=\"0\"\n",
              "    allowfullscreen\n",
              "></iframe>\n"
            ]
          },
          "metadata": {}
        },
        {
          "output_type": "display_data",
          "data": {
            "text/html": [
              "<iframe\n",
              "    scrolling=\"no\"\n",
              "    width=\"100%\"\n",
              "    height=\"545px\"\n",
              "    src=\"iframe_figures/figure_49.html\"\n",
              "    frameborder=\"0\"\n",
              "    allowfullscreen\n",
              "></iframe>\n"
            ]
          },
          "metadata": {}
        },
        {
          "output_type": "display_data",
          "data": {
            "text/html": [
              "<iframe\n",
              "    scrolling=\"no\"\n",
              "    width=\"100%\"\n",
              "    height=\"545px\"\n",
              "    src=\"iframe_figures/figure_49.html\"\n",
              "    frameborder=\"0\"\n",
              "    allowfullscreen\n",
              "></iframe>\n"
            ]
          },
          "metadata": {}
        },
        {
          "output_type": "display_data",
          "data": {
            "text/html": [
              "<iframe\n",
              "    scrolling=\"no\"\n",
              "    width=\"100%\"\n",
              "    height=\"545px\"\n",
              "    src=\"iframe_figures/figure_49.html\"\n",
              "    frameborder=\"0\"\n",
              "    allowfullscreen\n",
              "></iframe>\n"
            ]
          },
          "metadata": {}
        },
        {
          "output_type": "display_data",
          "data": {
            "text/html": [
              "<iframe\n",
              "    scrolling=\"no\"\n",
              "    width=\"100%\"\n",
              "    height=\"545px\"\n",
              "    src=\"iframe_figures/figure_49.html\"\n",
              "    frameborder=\"0\"\n",
              "    allowfullscreen\n",
              "></iframe>\n"
            ]
          },
          "metadata": {}
        },
        {
          "output_type": "display_data",
          "data": {
            "text/html": [
              "<iframe\n",
              "    scrolling=\"no\"\n",
              "    width=\"100%\"\n",
              "    height=\"545px\"\n",
              "    src=\"iframe_figures/figure_49.html\"\n",
              "    frameborder=\"0\"\n",
              "    allowfullscreen\n",
              "></iframe>\n"
            ]
          },
          "metadata": {}
        },
        {
          "output_type": "display_data",
          "data": {
            "text/html": [
              "<iframe\n",
              "    scrolling=\"no\"\n",
              "    width=\"100%\"\n",
              "    height=\"545px\"\n",
              "    src=\"iframe_figures/figure_49.html\"\n",
              "    frameborder=\"0\"\n",
              "    allowfullscreen\n",
              "></iframe>\n"
            ]
          },
          "metadata": {}
        },
        {
          "output_type": "display_data",
          "data": {
            "text/html": [
              "<iframe\n",
              "    scrolling=\"no\"\n",
              "    width=\"100%\"\n",
              "    height=\"545px\"\n",
              "    src=\"iframe_figures/figure_49.html\"\n",
              "    frameborder=\"0\"\n",
              "    allowfullscreen\n",
              "></iframe>\n"
            ]
          },
          "metadata": {}
        },
        {
          "output_type": "display_data",
          "data": {
            "text/html": [
              "<iframe\n",
              "    scrolling=\"no\"\n",
              "    width=\"100%\"\n",
              "    height=\"545px\"\n",
              "    src=\"iframe_figures/figure_49.html\"\n",
              "    frameborder=\"0\"\n",
              "    allowfullscreen\n",
              "></iframe>\n"
            ]
          },
          "metadata": {}
        },
        {
          "output_type": "display_data",
          "data": {
            "text/html": [
              "<iframe\n",
              "    scrolling=\"no\"\n",
              "    width=\"100%\"\n",
              "    height=\"545px\"\n",
              "    src=\"iframe_figures/figure_49.html\"\n",
              "    frameborder=\"0\"\n",
              "    allowfullscreen\n",
              "></iframe>\n"
            ]
          },
          "metadata": {}
        },
        {
          "output_type": "display_data",
          "data": {
            "text/html": [
              "<iframe\n",
              "    scrolling=\"no\"\n",
              "    width=\"100%\"\n",
              "    height=\"545px\"\n",
              "    src=\"iframe_figures/figure_49.html\"\n",
              "    frameborder=\"0\"\n",
              "    allowfullscreen\n",
              "></iframe>\n"
            ]
          },
          "metadata": {}
        },
        {
          "output_type": "display_data",
          "data": {
            "text/html": [
              "<iframe\n",
              "    scrolling=\"no\"\n",
              "    width=\"100%\"\n",
              "    height=\"545px\"\n",
              "    src=\"iframe_figures/figure_49.html\"\n",
              "    frameborder=\"0\"\n",
              "    allowfullscreen\n",
              "></iframe>\n"
            ]
          },
          "metadata": {}
        },
        {
          "output_type": "display_data",
          "data": {
            "text/html": [
              "<iframe\n",
              "    scrolling=\"no\"\n",
              "    width=\"100%\"\n",
              "    height=\"545px\"\n",
              "    src=\"iframe_figures/figure_49.html\"\n",
              "    frameborder=\"0\"\n",
              "    allowfullscreen\n",
              "></iframe>\n"
            ]
          },
          "metadata": {}
        },
        {
          "output_type": "display_data",
          "data": {
            "text/html": [
              "<iframe\n",
              "    scrolling=\"no\"\n",
              "    width=\"100%\"\n",
              "    height=\"545px\"\n",
              "    src=\"iframe_figures/figure_49.html\"\n",
              "    frameborder=\"0\"\n",
              "    allowfullscreen\n",
              "></iframe>\n"
            ]
          },
          "metadata": {}
        },
        {
          "output_type": "display_data",
          "data": {
            "text/html": [
              "<iframe\n",
              "    scrolling=\"no\"\n",
              "    width=\"100%\"\n",
              "    height=\"545px\"\n",
              "    src=\"iframe_figures/figure_49.html\"\n",
              "    frameborder=\"0\"\n",
              "    allowfullscreen\n",
              "></iframe>\n"
            ]
          },
          "metadata": {}
        }
      ]
    },
    {
      "cell_type": "code",
      "source": [
        "tabela.mean() # verificando a média das variáveis"
      ],
      "metadata": {
        "colab": {
          "base_uri": "https://localhost:8080/"
        },
        "id": "AQDNwGPYtmJI",
        "outputId": "f6244c72-c942-4b35-edb2-cd4f544a669d"
      },
      "execution_count": 50,
      "outputs": [
        {
          "output_type": "stream",
          "name": "stderr",
          "text": [
            "<ipython-input-50-495a839282b1>:1: FutureWarning:\n",
            "\n",
            "Dropping of nuisance columns in DataFrame reductions (with 'numeric_only=None') is deprecated; in a future version this will raise TypeError.  Select only valid columns before calling the reduction.\n",
            "\n"
          ]
        },
        {
          "output_type": "execute_result",
          "data": {
            "text/plain": [
              "Idade                              46.327079\n",
              "Dependentes                         2.346139\n",
              "Meses como Cliente                 35.928995\n",
              "Produtos Contratados                3.812463\n",
              "Inatividade 12m                     2.341300\n",
              "Contatos 12m                        2.455264\n",
              "Limite                           8631.962088\n",
              "Limite Consumido                 1162.764369\n",
              "Limite Disponível                7469.197719\n",
              "Mudanças Transacoes_Q4_Q1         108.713167\n",
              "Valor Transacoes 12m             4404.391764\n",
              "Qtde Transacoes 12m                64.861841\n",
              "Mudança Qtde Transações_Q4_Q1      66.579995\n",
              "Taxa de Utilização Cartão           0.274901\n",
              "dtype: float64"
            ]
          },
          "metadata": {},
          "execution_count": 50
        }
      ]
    },
    {
      "cell_type": "code",
      "source": [
        "# Verificando o percentual agregado\n",
        "tabela.groupby([\"Categoria Cartão\", \"Sexo\"])[\"Estado Civil\"].value_counts(normalize=True).mul(100)\n",
        "\n"
      ],
      "metadata": {
        "colab": {
          "base_uri": "https://localhost:8080/"
        },
        "id": "o3gIhZC9KvQC",
        "outputId": "f44ed2ae-5196-487f-96dd-be0d9c261914"
      },
      "execution_count": 51,
      "outputs": [
        {
          "output_type": "execute_result",
          "data": {
            "text/plain": [
              "Categoria Cartão  Sexo  Estado Civil \n",
              "Blue              F     Casado           46.324250\n",
              "                        Solteiro         39.266810\n",
              "                        Divorciado        7.469124\n",
              "                        Não informado     6.939816\n",
              "                  M     Casado           47.761883\n",
              "                        Solteiro         37.401938\n",
              "                        Não informado     7.568066\n",
              "                        Divorciado        7.268113\n",
              "Gold              F     Solteiro         60.526316\n",
              "                        Casado           26.315789\n",
              "                        Não informado     7.894737\n",
              "                        Divorciado        5.263158\n",
              "                  M     Solteiro         44.871795\n",
              "                        Casado           39.743590\n",
              "                        Não informado    11.538462\n",
              "                        Divorciado        3.846154\n",
              "Platinum          F     Solteiro         77.777778\n",
              "                        Casado           11.111111\n",
              "                        Divorciado       11.111111\n",
              "                  M     Casado           54.545455\n",
              "                        Solteiro         27.272727\n",
              "                        Não informado    18.181818\n",
              "Silver            F     Solteiro         43.809524\n",
              "                        Casado           36.666667\n",
              "                        Não informado    10.952381\n",
              "                        Divorciado        8.571429\n",
              "                  M     Solteiro         46.086957\n",
              "                        Casado           37.391304\n",
              "                        Não informado     8.405797\n",
              "                        Divorciado        8.115942\n",
              "Name: Estado Civil, dtype: float64"
            ]
          },
          "metadata": {},
          "execution_count": 51
        }
      ]
    },
    {
      "cell_type": "markdown",
      "source": [
        "### PRINCIPAIS INSIGHTS"
      ],
      "metadata": {
        "id": "rcObyJULtP4n"
      }
    },
    {
      "cell_type": "markdown",
      "source": [
        "1 16% dos clientes cancelaram o cartão\n",
        "\n",
        "2 A idade crítica de cancelamento se concentra entre 40 a 55 anos,salientando que a média de idade é 46 anos, porém é preciso estar atento as outras faixas de idade e tanto faz se for homem ou mulher\n",
        "\n",
        "3 A quantidade de dependentes não tem relação direta com os cancelamentos, porém é necessário um olhar atento aos que tem 2 a 3 dependentes\n",
        "\n",
        "4 A faixa salarial anual abaixo de 40k foi a que mais impactou nos cancelamentos\n",
        "\n",
        "5 O tipo de cartão que teve influência foi o blue, talvez seja por ser um tipo de cartão popular\n",
        "\n",
        "6 Os clientes de 36 meses com cartão foram os que mais cancelaram \n",
        "\n",
        "7 A maior inatividade no período de 1 ano do cartão se concentra entre a faixa 2 e 3\n",
        "\n",
        "\n",
        "\n",
        "8 O limite do cartão de que se concetram os cancelamentos estão abaixo dos 5k, deve ser indícios de faixas populares, e quem usa o limite do cartão tem poucos cancelamentos, limites baixos de cartão favorece o cancelamento.\n",
        "\n",
        "9.Existem muitos cartão sem transações e pouco uso do limite do cartão.\n",
        "\n",
        "10 Os cancelamentos se concentram entre valores de transações de 2k a 4k no período de 12 meses, e quantidades de transações de 40 a 55 trasanções por ano."
      ],
      "metadata": {
        "id": "4l-liQ4ntpEb"
      }
    },
    {
      "cell_type": "markdown",
      "source": [
        "# RESUMO DOS INFLUENCIADORES \n",
        "\n",
        "- LIMITE DE CARTÃO BAIXO 5K\n",
        "- POUCO USO DO LIIMITE\n",
        "- BANDEIRA DO CARTÃO\n",
        "- VALORE E QUANTIDADES BAIXOS DE TRANSAÇÕES\n",
        "- IDADE  ENTRE 40 E 55 ANOS"
      ],
      "metadata": {
        "id": "cWAd9cDaDCRC"
      }
    }
  ]
}